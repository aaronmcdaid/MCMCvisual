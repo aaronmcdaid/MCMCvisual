{
 "cells": [
  {
   "cell_type": "markdown",
   "metadata": {},
   "source": [
    "This is the first post in a series I hope to write on a new clustering algorithm in Python. The model is essentially a Gaussian Mixture Model, so I will be comparing it with the [GaussianMixture](http://scikit-learn.org/stable/modules/mixture.html#mixture) algorithm in `scikit-learn`. My algorithm will be different, using Markov Chain Monte Carlo, and I have already implemented it in C++. I hope it will be quite accurate, estimating the number of clusters at least as accurately as existing methods, but I will have to sacrifice some scalability as a result. A visualization of my C++ algorithm is [online here](https://aaronmcdaid.github.io/demos/mvnMCMC/mvnMCMC.html) but I'm going to write this in Python as it will be more accessible via Python, and it will be a good project to help me dive deeply into Python and Jupyter notebooks and so on\n",
    "\n",
    "However, this first post is going to be quite small and simple. I hope to blog regular, small, posts on this topic as I make progress. I have multiple motivations for this: transition to Python 3, investigate existing clustering algorithms in Python, learn how to make nice Jupyter notebooks (including animations perhaps). Please give me feedback and help on everything!\n",
    "\n",
    "## Calculating the sample mean (centroid) in a cluster efficiently and accurately\n",
    "\n",
    "I will focus on one simple, but important, issue in this first post. We have one-dimensional data wth three datapoints at 300,2.71,2.70. First we compute the sample mean:\n",
    "\n",
    "$$ \\bar{x} = \\sum x_i $$"
   ]
  },
  {
   "cell_type": "code",
   "execution_count": 1,
   "metadata": {},
   "outputs": [
    {
     "name": "stdout",
     "output_type": "stream",
     "text": [
      "106.51099999999998\n",
      "106.51099999999998\n"
     ]
    }
   ],
   "source": [
    "import numpy as np\n",
    "x=314.123\n",
    "y=2.71\n",
    "z=2.70\n",
    "\n",
    "print( (x+y+z)/3 )\n",
    "print( np.mean( [x,y,z] ))"
   ]
  },
  {
   "cell_type": "markdown",
   "metadata": {},
   "source": [
    "As the algorithm proceeds, it will add and remove datapoints from clusters. Imagine we start off with an empty cluster and then add each node to it one at a time. We need to keep track of how the sample mean changes as we add and remove data points. (Informally, the algorithm will move observations from one cluster to another, depending on which cluster mean it is closest too {for some definition of 'closest'}). It seems natural to keep a `total` variable and then add and remove the values to it and from it:"
   ]
  },
  {
   "cell_type": "code",
   "execution_count": 2,
   "metadata": {},
   "outputs": [
    {
     "name": "stdout",
     "output_type": "stream",
     "text": [
      "initial total, empty cluster:\t 0.0\n",
      "total after adding 'x':\t\t 314.123\n",
      "total after adding 'y':\t\t 316.83299999999997\n",
      "total after adding 'z':\t\t 319.53299999999996\n",
      "total after subtracting 'x':\t\t 5.409999999999968\n",
      "total after subtracting 'y':\t\t 2.699999999999968\n",
      "total after subtracting 'z':\t\t -3.197442310920451e-14\n"
     ]
    }
   ],
   "source": [
    "total = 0.0\n",
    "print(\"initial total, empty cluster:\\t\", total)\n",
    "total += x\n",
    "print(\"total after adding 'x':\\t\\t\", total)\n",
    "total += y\n",
    "print(\"total after adding 'y':\\t\\t\", total)\n",
    "total += z\n",
    "print(\"total after adding 'z':\\t\\t\", total)\n",
    "total -= x\n",
    "print(\"total after subtracting 'x':\\t\\t\", total)\n",
    "total -= y\n",
    "print(\"total after subtracting 'y':\\t\\t\", total)\n",
    "total -= z\n",
    "print(\"total after subtracting 'z':\\t\\t\", total)\n"
   ]
  },
  {
   "cell_type": "markdown",
   "metadata": {},
   "source": [
    "Note the final value. It's not exactly zero. But it should be zero. We've adding three values, and then subtracted all three values, so the final total should be zero.\n",
    "\n",
    "(More explanation of this issue is [here on Wikipedia](https://en.wikipedia.org/wiki/Floating-point_arithmetic#Accuracy_problems))\n",
    "\n",
    "Usually, this error isn't a problem, as the error is quite small. But in the algorithm I plan to develop here, datapoints will be added and removed repeatedly and the error will gradually build up and become larger and larger. To see how it can build up, consider this generator:"
   ]
  },
  {
   "cell_type": "code",
   "execution_count": 3,
   "metadata": {},
   "outputs": [
    {
     "data": {
      "text/plain": [
       "[-3.197442310920451e-14,\n",
       " -8.881784197001252e-14,\n",
       " -1.4566126083082054e-13,\n",
       " -2.0250467969162855e-13,\n",
       " -2.5934809855243657e-13,\n",
       " -3.161915174132446e-13,\n",
       " -3.730349362740526e-13,\n",
       " -4.298783551348606e-13,\n",
       " -4.867217739956686e-13,\n",
       " -5.435651928564766e-13]"
      ]
     },
     "execution_count": 3,
     "metadata": {},
     "output_type": "execute_result"
    }
   ],
   "source": [
    "import more_itertools as it\n",
    "\n",
    "def add_and_remove_forever():\n",
    "    total = 0.0\n",
    "    while True:\n",
    "        total += x\n",
    "        total += y\n",
    "        total += z\n",
    "        total -= x\n",
    "        total -= y\n",
    "        total -= z\n",
    "        yield total\n",
    "        \n",
    "it.take( 10, add_and_remove_forever() )"
   ]
  },
  {
   "cell_type": "markdown",
   "metadata": {},
   "source": [
    "Notice how it is moving further from zero. The last entry in that list is after a total of 60 arithmetic operations (30 additions interleaved with 30 subtrations). The error continues to build up. Nowadays, as we are using 64-bit floating point numbers (`double` in C or C++), this error builds up only very slowly. If we used 32-bit floating point numbers (`float` in C or C++) then the error would grow much more quickly.\n",
    "\n",
    "Even though the error grows slowly (under 64-bits) we might still want a more stable system. It's highly desirable that when a cluster returns to the same state as it had previously - where it has exactly the same members as it had earlier - that the `total` has exactly the same value. This would help us to verify some correctness properties in the algorithm.\n",
    "\n",
    "The obvious (but slow) solution is to simply recompute the full total from scratch each time, instead of remembering and modifying a `total` variable."
   ]
  },
  {
   "cell_type": "code",
   "execution_count": 4,
   "metadata": {},
   "outputs": [
    {
     "name": "stdout",
     "output_type": "stream",
     "text": [
      "314.123\n",
      "316.83299999999997\n",
      "319.53299999999996\n",
      "5.41\n",
      "2.7\n",
      "0\n"
     ]
    }
   ],
   "source": [
    "class slow_recompute:\n",
    "    def __init__(self, values):\n",
    "        self.values = values\n",
    "        self.N = len(values)\n",
    "        self.is_a_member = [ False for i in range(self.N)]\n",
    "    def add_index(self, idx):\n",
    "        self.is_a_member[idx] = True\n",
    "    def rem_index(self, idx):\n",
    "        self.is_a_member[idx] = False\n",
    "    def get_total(self):\n",
    "        return np.sum( self.values[i] for i in range(self.N) if self.is_a_member[i])\n",
    "        \n",
    "\n",
    "sr = slow_recompute([x,y,z])\n",
    "\n",
    "# Now add the three elements in turn:\n",
    "sr.add_index(0) # add the first item, in this case 'x=314.123'\n",
    "print(sr.get_total())\n",
    "sr.add_index(1) # add the first item, in this case 'y=2.71'\n",
    "print(sr.get_total())\n",
    "sr.add_index(2) # add the first item, in this case 'z=2.70'\n",
    "print(sr.get_total())\n",
    "\n",
    "# .. then remove them:\n",
    "sr.rem_index(0) # remove the first item, in this case 'x=314.123'\n",
    "print(sr.get_total())\n",
    "sr.rem_index(1) # remove the first item, in this case 'y=2.71'\n",
    "print(sr.get_total())\n",
    "sr.rem_index(2) # remove the first item, in this case 'z=2.70'\n",
    "print(sr.get_total())"
   ]
  },
  {
   "cell_type": "markdown",
   "metadata": {},
   "source": [
    "As you would expect, the final answer you can see there is exactly zero.\n",
    "\n",
    "$$ \\sqrt{\\frac1{b}} $$\n",
    "\n",
    "But this is slow, as it has to iterate over all the items in the list every time we call `get_total`.\n",
    "\n",
    "So in summary, I want a method that is fast to update the sample total. But also I want it to avoid the errors and to be *deterministic* - the sample total should achieve exactly the same value if the same set of observations are included in the cluster. To do this, I will use that that fact *integer* arithmetic does not suffer from this problem. We need to map each floating point value in the data to an integer, then we can easily add and remove the integers without error. "
   ]
  },
  {
   "cell_type": "code",
   "execution_count": 5,
   "metadata": {},
   "outputs": [
    {
     "data": {
      "text/plain": [
       "9832749875984393"
      ]
     },
     "execution_count": 5,
     "metadata": {},
     "output_type": "execute_result"
    }
   ],
   "source": [
    "int(\"9832749875984393\")"
   ]
  },
  {
   "cell_type": "code",
   "execution_count": 9,
   "metadata": {},
   "outputs": [
    {
     "data": {
      "text/plain": [
       "130"
      ]
     },
     "execution_count": 9,
     "metadata": {},
     "output_type": "execute_result"
    }
   ],
   "source": [
    "n = 987987698789876876876876876876876680897\n",
    "n.bit_length()"
   ]
  },
  {
   "cell_type": "code",
   "execution_count": null,
   "metadata": {},
   "outputs": [],
   "source": []
  }
 ],
 "metadata": {
  "kernelspec": {
   "display_name": "Python 3",
   "language": "python",
   "name": "python3"
  },
  "language_info": {
   "codemirror_mode": {
    "name": "ipython",
    "version": 3
   },
   "file_extension": ".py",
   "mimetype": "text/x-python",
   "name": "python",
   "nbconvert_exporter": "python",
   "pygments_lexer": "ipython3",
   "version": "3.5.2"
  }
 },
 "nbformat": 4,
 "nbformat_minor": 2
}
