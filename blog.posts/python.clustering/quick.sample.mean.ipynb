{
 "cells": [
  {
   "cell_type": "markdown",
   "metadata": {},
   "source": [
    "This is the first post in a series I hope to write on a new clustering algorithm in Python. The model is essentially a Gaussian Mixture Model, so I will be comparing it with the [GaussianMixture](http://scikit-learn.org/stable/modules/mixture.html#mixture) algorithm in `scikit-learn`. My algorithm will be different, using Markov Chain Monte Carlo, and I have already implemented it in C++. I hope it will be quite accurate, estimating the number of clusters at least as accurately as existing methods, but I will have to sacrifice some scalability as a result. A visualization of my C++ algorithm is [online here](https://aaronmcdaid.github.io/demos/mvnMCMC/mvnMCMC.html) but I'm going to write this in Python as it will be more accessible via Python\n",
    "\n",
    "However, this first post is going to be quite small and simple. I hope to blog regular, small, posts on this topic as I make progress. I have multiple motivations for this: transition to Python 3, investigate existing clustering algorithms in Python, learn how to make nice Jupyter notebooks. Any feedback appreciated!\n",
    "\n",
    "## Calculating the sample mean (centroid) in a cluster efficiently and accurately\n",
    "\n",
    "I will focus on this simple, but important, issue in this post"
   ]
  },
  {
   "cell_type": "code",
   "execution_count": 2,
   "metadata": {},
   "outputs": [
    {
     "data": {
      "text/plain": [
       "-4.085620730620576e-14"
      ]
     },
     "execution_count": 2,
     "metadata": {},
     "output_type": "execute_result"
    }
   ],
   "source": [
    "314 + 2.71 + 2.71 - 314 - 2.71 - 2.71"
   ]
  },
  {
   "cell_type": "code",
   "execution_count": 3,
   "metadata": {},
   "outputs": [
    {
     "data": {
      "text/plain": [
       "-9.769962616701378e-14"
      ]
     },
     "execution_count": 3,
     "metadata": {},
     "output_type": "execute_result"
    }
   ],
   "source": [
    "314 + 2.71 + 2.71 - 314 - 2.71 - 2.71 + 314 + 2.71 + 2.71 - 314 - 2.71 - 2.71"
   ]
  },
  {
   "cell_type": "code",
   "execution_count": null,
   "metadata": {},
   "outputs": [],
   "source": []
  }
 ],
 "metadata": {
  "kernelspec": {
   "display_name": "Python 3",
   "language": "python",
   "name": "python3"
  },
  "language_info": {
   "codemirror_mode": {
    "name": "ipython",
    "version": 3
   },
   "file_extension": ".py",
   "mimetype": "text/x-python",
   "name": "python",
   "nbconvert_exporter": "python",
   "pygments_lexer": "ipython3",
   "version": "3.5.2"
  }
 },
 "nbformat": 4,
 "nbformat_minor": 2
}
