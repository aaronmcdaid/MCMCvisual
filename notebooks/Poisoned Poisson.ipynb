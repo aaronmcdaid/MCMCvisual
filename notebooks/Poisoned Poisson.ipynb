{
 "cells": [
  {
   "cell_type": "markdown",
   "metadata": {},
   "source": [
    "_This notebook is part of this tweet:_\n",
    "\n",
    "Bayesians, don't use the Poisson distribution is your data isn't Poisson-distributed. It gives misleading results, because it underestimates the variance of the data and hence the variance of the posterior will be (misleadingly) small, giving your false confidence in your results.\n",
    "\n",
    "If you have a sample of non-negative integers (maybe clicks-per-visit in an eCommerce context), it's tempting to model it as Poisson.\n",
    "I'll do some simulations here to show it goes wrong if the data isn't really Poisson.\n",
    "\n",
    "Notebook link: ...\n",
    "\n",
    "I generate data from a Geometric distribution, as it also generates non-negative integers. But it has higher variance.\n",
    "\n",
    "Geometric's conjugate prior is Beta, so I used p ~ Beta(α=12, β=108) and then generated sample of 1000 integers from the Geometric. Then, computed the posterior for 𝑝"
   ]
  },
  {
   "cell_type": "markdown",
   "metadata": {},
   "source": [
    "$$\n",
    "Generate: \\qquad \\qquad \\qquad \\qquad \\qquad \\qquad\\\\\n",
    "p \\sim Beta(\\alpha=12, \\beta=108)   \\qquad \\qquad  \\\\\n",
    "\\; \\; \\; \\; x_i \\sim Geometric(p)  \\qquad i \\in \\{1,...,1000\\} \\\\\n",
    "Posterior: \\qquad \\qquad \\qquad \\qquad \\qquad \\qquad\\\\\n",
    "p | \\mathbf{x} \\sim Beta(\\alpha=12+1000, \\beta=108 + \\sum_{i=1}{1000})\n",
    "$$"
   ]
  },
  {
   "cell_type": "markdown",
   "metadata": {},
   "source": [
    "This Beta posterior is the \"gold standard\" - it is the posterior that comes from full knowledge of the correct data-generating process.\n",
    "\n",
    "𝑝 is not directly of interest, so I transform it to 1/𝑝-1 as that is the mean and the mean can be compared to the Poisson's rate.\n",
    "\n",
    "Next, to compute the Poisson, we need a Gamma model. After a bit of trial and error, I found that Gamma(α=10, β=1) is very similar (after transformation) to the Beta prior mentioned earlier. I did this deliberately so ensure Poisson was given a \"fair chance\". Then the corresponding Gamma prior can be updated to the Gamma posterior\n",
    "\n",
    "$$\n",
    "\\lambda | \\mathbf{x} \\sim Gamma(\\alpha=10 + \\sum_{i=1}{1000}, \\beta=1+1000, )\n",
    "$$\n",
    "\n",
    "I ran this many times, and varied the sample size also. In every case, the Poisson-Gamma posterior was in roughly same location as the Geometric-Beta, but the variance was about ten times smaller. As the Geometric-Beta is the 'gold standard' here, it confirms that the Poisson-Gamma is too narrow and is claiming false confidence in its estimate of the mean of the underlying data"
   ]
  },
  {
   "cell_type": "code",
   "execution_count": null,
   "metadata": {},
   "outputs": [],
   "source": [
    "import matplotlib.pyplot as plt\n",
    "import numpy as np\n",
    "from scipy.stats import beta, gamma, geom, nbinom, poisson, uniform"
   ]
  },
  {
   "cell_type": "code",
   "execution_count": 188,
   "metadata": {},
   "outputs": [
    {
     "data": {
      "text/plain": [
       "(0.1, 0.10000000000000009)"
      ]
     },
     "execution_count": 188,
     "metadata": {},
     "output_type": "execute_result"
    }
   ],
   "source": [
    "def reparameterize_to_mean(p):\n",
    "    # given a NegBin(r=1, p=p), return the mean\n",
    "    \n",
    "    # We'll use the Wikipedia parameterization (which is different from Scipy's)\n",
    "    # p is probability of success\n",
    "    # NegBinom waits for 'r' failures, then return the number of successes\n",
    "    \n",
    "    r=1\n",
    "    return (p*r)/(1-p), nbinom(n=1, p=1-p).mean()\n",
    "\n",
    "    # Link with the Beta(prior)\n",
    "    \n",
    "    # \n",
    "\n",
    "reparameterize_to_mean(1/11)"
   ]
  },
  {
   "cell_type": "code",
   "execution_count": 215,
   "metadata": {},
   "outputs": [
    {
     "name": "stdout",
     "output_type": "stream",
     "text": [
      "\n",
      "10.00723 10.014457727100002\n",
      "(array([ 0,  1,  2,  3,  4,  5,  6,  7,  8,  9, 10, 11, 12, 13, 14, 15, 16,\n",
      "       17, 18, 19, 20, 21, 22, 23, 24, 25, 26]), array([    4,    34,   211,   755,  1868,  3787,  6371,  8924, 11295,\n",
      "       12625, 12351, 11364,  9468,  7271,  5252,  3516,  2203,  1262,\n",
      "         700,   387,   187,    79,    55,    18,    10,     1,     2]))\n",
      "\n",
      "10.0146 109.64988684000001\n",
      "(array([  0,   1,   2,   3,   4,   5,   6,   7,   8,   9,  10,  11,  12,\n",
      "        13,  14,  15,  16,  17,  18,  19,  20,  21,  22,  23,  24,  25,\n",
      "        26,  27,  28,  29,  30,  31,  32,  33,  34,  35,  36,  37,  38,\n",
      "        39,  40,  41,  42,  43,  44,  45,  46,  47,  48,  49,  50,  51,\n",
      "        52,  53,  54,  55,  56,  57,  58,  59,  60,  61,  62,  63,  64,\n",
      "        65,  66,  67,  68,  69,  70,  71,  72,  73,  74,  75,  76,  77,\n",
      "        78,  79,  80,  81,  82,  83,  84,  85,  86,  87,  89,  90,  92,\n",
      "        93,  94,  95,  96,  97,  98,  99, 100, 101, 105, 106, 120, 121,\n",
      "       124]), array([8949, 8319, 7570, 6812, 6320, 5620, 5131, 4587, 4178, 3834, 3505,\n",
      "       3119, 2959, 2650, 2361, 2216, 2031, 1826, 1643, 1519, 1301, 1192,\n",
      "       1073, 1021,  941,  836,  801,  666,  659,  573,  537,  474,  490,\n",
      "        400,  359,  319,  294,  258,  249,  203,  191,  185,  160,  160,\n",
      "        141,  129,  119,   86,  104,   94,   95,   79,   55,   54,   56,\n",
      "         50,   42,   37,   45,   27,   27,   26,   29,   12,   20,   17,\n",
      "         14,   17,   12,   12,   10,    8,   12,    3,    5,    4,    3,\n",
      "          6,    6,    1,    3,    4,    3,    3,    6,    5,    1,    1,\n",
      "          5,    3,    1,    1,    1,    1,    1,    2,    2,    1,    1,\n",
      "          2,    1,    1,    1,    1,    1]))\n"
     ]
    }
   ],
   "source": [
    "def foo(x):\n",
    "    print()\n",
    "    print(np.mean(x), np.var(x))\n",
    "    print(np.unique(x ,return_counts=True))\n",
    "    \n",
    "M=100000\n",
    "\n",
    "#foo(nbinom(n=1,p=1-10/11).rvs(M))\n",
    "foo(poisson(10).rvs(M))\n",
    "foo(geom(p=1/11, loc=-1).rvs(M))"
   ]
  },
  {
   "cell_type": "markdown",
   "metadata": {},
   "source": [
    "Goal:\n",
    "\n",
    "Use the Geometric distribution, with its Beta conjugate, to generate data\n",
    "that could be misinterpreted as Poisson\n",
    "\n",
    "Geometric requires small $p$ to get a big variance, so we'll aim for priors that generally give us $p \\approx .1$, i.e $E[X] \\approx 10$. Then it might look (naively) like a $Poisson(10)$"
   ]
  },
  {
   "cell_type": "markdown",
   "metadata": {},
   "source": [
    "Poisson:  Mean: $\\lambda$  Variance: $\\lambda$\n",
    "\n",
    "Geometric: Mean: $\\frac{1-p}p$ Variance: $\\frac{1-p}{p^2}$ . In SciPy, we need `loc=-1` to get the correct parameterization (i.e. counting failures, in order that 0 is in the support)\n",
    "\n",
    "So Geometric has higher variance, by factor $\\frac1p$, when the means are the same\n",
    "\n",
    "Conjugates:\n",
    "\n",
    "Geometric: Beta(#experiments, #failures)\n",
    "\n",
    "Poisson: Gamma(alpha=total occurences, beta=intervals). scipy has Gamma(alpha, beta=1)\n",
    "\n",
    "Note to ensure I understand the parameterization of the Geometric/Beta. If the sample has large numbers, then we expect the posterior to be pushed towards small $p$ because $p$ is roughly the inverse of the mean. Here is the mechanism:\n",
    " - large numbers in the sample mean a lot of failures (large $x_i$). Hence the second parameter of the Beta posterior is increased a lot: $ p | \\cdot \\sim Beta(\\alpha+n, \\beta+\\sum_{i=1}^n x_i)$\n",
    " - increasing the second parameter of a Beta will decrease it's mean, hence the expected decrease in the posterior $p$\n",
    " \n",
    "So all is good.\n",
    "\n",
    "We need a Beta that will generate values around 0.1, and a Gamma around 10.0, such that the former looks like the latter when inversed"
   ]
  },
  {
   "cell_type": "code",
   "execution_count": 296,
   "metadata": {},
   "outputs": [
    {
     "data": {
      "text/plain": [
       "(9.658225162396333, 9.230849365442758, 9.939012968641034, 10.531517835967321)"
      ]
     },
     "execution_count": 296,
     "metadata": {},
     "output_type": "execute_result"
    },
    {
     "data": {
      "image/png": "[encoded data removed]",
      "text/plain": [
       "<Figure size 432x288 with 1 Axes>"
      ]
     },
     "metadata": {
      "needs_background": "light"
     },
     "output_type": "display_data"
    }
   ],
   "source": [
    "g_prior = gamma(a=10, scale=1)\n",
    "b_prior = beta(a=12, b=108)\n",
    "M = 100000\n",
    "g = g_prior.rvs(M)\n",
    "b = 1/b_prior.rvs(M) - 1\n",
    "plt.hist(b, label='1/Beta()', bins=np.arange(0,35,1))\n",
    "plt.hist(g, label='Gamma(a=10)', bins=np.arange(0,35,1), alpha=0.5)\n",
    "plt.legend()\n",
    "\n",
    "np.median(g), np.median(b), np.var(g), np.var(b)"
   ]
  },
  {
   "cell_type": "code",
   "execution_count": 316,
   "metadata": {},
   "outputs": [
    {
     "name": "stdout",
     "output_type": "stream",
     "text": [
      "\n",
      "195620 17.828705367714473 0.05311039609312158\n",
      "17.786545343011962 332.6149728419528\n",
      "\n",
      "239238 4.2880912228066315 0.1891041507920989\n",
      "4.28327021626999 22.691345274218975\n",
      "\n",
      "103151 10.600403261903947 0.08620389976303913\n",
      "10.577250826458299 122.38632855512179\n",
      "\n",
      "2744 12.750898440059641 0.07272252095810423\n",
      "12.616253644314869 170.54770957997943\n",
      "\n",
      "94066 20.028661863126274 0.047554143316817434\n",
      "20.083005549295176 428.99857432729254\n"
     ]
    },
    {
     "data": {
      "image/png": "[encoded data removed]",
      "text/plain": [
       "<Figure size 432x288 with 1 Axes>"
      ]
     },
     "metadata": {
      "needs_background": "light"
     },
     "output_type": "display_data"
    },
    {
     "data": {
      "image/png": "[encoded data removed]",
      "text/plain": [
       "<Figure size 432x288 with 1 Axes>"
      ]
     },
     "metadata": {
      "needs_background": "light"
     },
     "output_type": "display_data"
    },
    {
     "data": {
      "image/png": "[encoded data removed]",
      "text/plain": [
       "<Figure size 432x288 with 1 Axes>"
      ]
     },
     "metadata": {
      "needs_background": "light"
     },
     "output_type": "display_data"
    },
    {
     "data": {
      "image/png": "[encoded data removed]",
      "text/plain": [
       "<Figure size 432x288 with 1 Axes>"
      ]
     },
     "metadata": {
      "needs_background": "light"
     },
     "output_type": "display_data"
    },
    {
     "data": {
      "image/png": "[encoded data removed]",
      "text/plain": [
       "<Figure size 432x288 with 1 Axes>"
      ]
     },
     "metadata": {
      "needs_background": "light"
     },
     "output_type": "display_data"
    },
    {
     "data": {
      "text/plain": [
       "<Figure size 432x288 with 0 Axes>"
      ]
     },
     "metadata": {},
     "output_type": "display_data"
    }
   ],
   "source": [
    "M = 5\n",
    "for m in range(M):\n",
    "    print()\n",
    "    sample_size = (10**uniform(3,6-3).rvs()).astype(int)\n",
    "    true_mean = g_prior.rvs()\n",
    "    p_for_the_geometric = 1/(true_mean+1)\n",
    "    print(sample_size, true_mean, p_for_the_geometric)\n",
    "    \n",
    "    # Generate Geometric data\n",
    "    g = geom(p=p_for_the_geometric, loc=-1).rvs(sample_size)\n",
    "    print(np.mean(g), np.var(g))\n",
    "    \n",
    "    # Compute the 'correct' posterior, i.e. Beta\n",
    "    geom_beta_prior = 12, 108 # beta(a=12, b=108)\n",
    "    geom_beta_posterior = geom_beta_prior[0] + sample_size, geom_beta_prior[1] + np.sum(g)\n",
    "    \n",
    "    sample_of_means_from_correct_posterior = 1/beta(*geom_beta_posterior).rvs(1000) - 1\n",
    "    plt.hist(sample_of_means_from_correct_posterior)\n",
    "    \n",
    "    # Let's pretend it's Poisson and see what goes wrong\n",
    "    \n",
    "    poisson_gamma_prior = 10, 1  # Gamma(alpha=10, beta=1/1)\n",
    "    poisson_gamma_posterior = poisson_gamma_prior[0] + np.sum(g), poisson_gamma_prior[1] + sample_size\n",
    "    wrong_posterior = gamma(a=poisson_gamma_posterior[0], scale=1/poisson_gamma_posterior[1]).rvs(1000)\n",
    "    plt.hist(wrong_posterior)\n",
    "    plt.figure()\n",
    "    \n",
    "    "
   ]
  }
 ],
 "metadata": {
  "kernelspec": {
   "display_name": "Python 3",
   "language": "python",
   "name": "python3"
  },
  "language_info": {
   "codemirror_mode": {
    "name": "ipython",
    "version": 3
   },
   "file_extension": ".py",
   "mimetype": "text/x-python",
   "name": "python",
   "nbconvert_exporter": "python",
   "pygments_lexer": "ipython3",
   "version": "3.6.10"
  }
 },
 "nbformat": 4,
 "nbformat_minor": 4
}
