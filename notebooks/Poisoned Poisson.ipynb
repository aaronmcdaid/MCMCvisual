{
 "cells": [
  {
   "cell_type": "markdown",
   "metadata": {},
   "source": [
    "_This notebook is part of this tweet:_ https://twitter.com/AaronMcDaid/status/1358445159575355395\n",
    "\n",
    "Bayesians, don't use the Poisson distribution is your data isn't Poisson-distributed. It gives misleading results, because it underestimates the variance of the data and hence the variance of the posterior will be (misleadingly) small, giving your false confidence in your results.\n",
    "\n",
    "If you have a sample of non-negative integers (maybe clicks-per-visit in an eCommerce context), it's tempting to model it as Poisson.\n",
    "I'll do some simulations here to show it goes wrong if the data isn't really Poisson.\n",
    "\n",
    "Notebook link: ...\n",
    "\n",
    "I generate data from a Geometric distribution, as it also generates non-negative integers. But it has higher variance.\n",
    "\n",
    "Geometric's conjugate prior is Beta, so I used p ~ Beta(α=12, β=108) and then generated sample of 1000 integers from the Geometric. Then, computed the posterior for 𝑝"
   ]
  },
  {
   "cell_type": "markdown",
   "metadata": {},
   "source": [
    "$$\n",
    "Generate: \\qquad \\qquad \\qquad \\qquad \\qquad \\qquad\\\\\n",
    "p \\sim Beta(\\alpha=12, \\beta=108)   \\qquad \\qquad  \\\\\n",
    "\\; \\; \\; \\; x_i \\sim Geometric(p)  \\qquad i \\in \\{1,...,1000\\} \\\\\n",
    "Posterior: \\qquad \\qquad \\qquad \\qquad \\qquad \\qquad\\\\\n",
    "p | \\mathbf{x} \\sim Beta(\\alpha=12+1000, \\beta=108 + \\sum_{i=1}^{1000}x_i)\n",
    "$$"
   ]
  },
  {
   "cell_type": "markdown",
   "metadata": {},
   "source": [
    "This Beta posterior is the \"gold standard\" - it is the posterior that comes from full knowledge of the correct data-generating process.\n",
    "\n",
    "𝑝 is not directly of interest, so I transform it to 1/𝑝-1 as that is the mean and the mean can be compared to the Poisson's rate.\n",
    "\n",
    "Next, to compute the Poisson, we need a Gamma model. After a bit of trial and error, I found that Gamma(α=10, β=1) is very similar (after transformation) to the Beta prior mentioned earlier. I did this deliberately so ensure Poisson was given a \"fair chance\". Then the corresponding Gamma prior can be updated to the Gamma posterior\n",
    "\n",
    "$$\n",
    "\\lambda | \\mathbf{x} \\sim Gamma(\\alpha=10 + \\sum_{i=1}^{1000}x_i, \\beta=1+1000)\n",
    "$$\n",
    "\n",
    "I ran this many times, and varied the sample size also. In every case, the Poisson-Gamma posterior was in roughly same location as the Geometric-Beta, but the variance was about ten times smaller. As the Geometric-Beta is the 'gold standard' here, it confirms that the Poisson-Gamma is too narrow and is claiming false confidence in its estimate of the mean of the underlying data. This will break your AB test for example, because it will be overconfident in claiming differences in the mean clicks-per-visit between the two versions of your website"
   ]
  },
  {
   "cell_type": "code",
   "execution_count": 1,
   "metadata": {},
   "outputs": [],
   "source": [
    "import matplotlib.pyplot as plt\n",
    "import numpy as np\n",
    "from scipy.stats import beta, gamma, geom, nbinom, poisson, uniform"
   ]
  },
  {
   "cell_type": "markdown",
   "metadata": {},
   "source": [
    "Goal:\n",
    "\n",
    "Use the Geometric distribution, with its Beta conjugate, to generate data\n",
    "that could be misinterpreted as Poisson\n",
    "\n",
    "Geometric requires small $p$ to get a big variance, so we'll aim for priors that generally give us $p \\approx .1$, i.e $E[X] \\approx 10$. Then it might look (naively) like a $Poisson(10)$"
   ]
  },
  {
   "cell_type": "markdown",
   "metadata": {},
   "source": [
    "Poisson:  Mean: $\\lambda$  Variance: $\\lambda$\n",
    "\n",
    "Geometric: Mean: $\\frac{1-p}p$ Variance: $\\frac{1-p}{p^2}$ . In SciPy, we need `loc=-1` to get the correct parameterization (i.e. counting failures, in order that 0 is in the support)\n",
    "\n",
    "So Geometric has higher variance, by factor $\\frac1p$, when the means are the same\n",
    "\n",
    "Conjugates:\n",
    "\n",
    "Geometric: Beta(#experiments, #failures)\n",
    "\n",
    "Poisson: Gamma(alpha=total occurences, beta=intervals). scipy has Gamma(alpha, beta=1)\n",
    "\n",
    "Note to ensure I understand the parameterization of the Geometric/Beta. If the sample has large numbers, then we expect the posterior to be pushed towards small $p$ because $p$ is roughly the inverse of the mean. Here is the mechanism:\n",
    " - large numbers in the sample mean a lot of failures (large $x_i$). Hence the second parameter of the Beta posterior is increased a lot: $ p | \\cdot \\sim Beta(\\alpha+n, \\beta+\\sum_{i=1}^n x_i)$\n",
    " - increasing the second parameter of a Beta will decrease it's mean, hence the expected decrease in the posterior $p$\n",
    " \n",
    "So all is good.\n",
    "\n",
    "We need a Beta that will generate values around 0.1, and a Gamma around 10.0, such that the former looks like the latter when inversed"
   ]
  },
  {
   "cell_type": "markdown",
   "metadata": {},
   "source": [
    "# Figure 1, to confirm that the two priors are approximately the same as each other\n",
    "\n",
    "... this means that, when Poisson/Gamma fails, we can't blame it on the prior!"
   ]
  },
  {
   "cell_type": "code",
   "execution_count": 2,
   "metadata": {},
   "outputs": [
    {
     "data": {
      "text/plain": [
       "(9.657900668519856, 9.22849095882168, 9.980475089563338, 10.596488353158806)"
      ]
     },
     "execution_count": 2,
     "metadata": {},
     "output_type": "execute_result"
    },
    {
     "data": {
      "image/png": "[encoded data removed]",
      "text/plain": [
       "<Figure size 432x288 with 1 Axes>"
      ]
     },
     "metadata": {
      "needs_background": "light"
     },
     "output_type": "display_data"
    }
   ],
   "source": [
    "g_prior = gamma(a=10, scale=1)\n",
    "b_prior = beta(a=12, b=108)\n",
    "M = 100000\n",
    "g = g_prior.rvs(M)\n",
    "b = 1/b_prior.rvs(M) - 1\n",
    "plt.hist(b, label='1/Beta()', bins=np.arange(0,35,1))\n",
    "plt.hist(g, label='Gamma(a=10)', bins=np.arange(0,35,1), alpha=0.5)\n",
    "plt.legend()\n",
    "\n",
    "np.median(g), np.median(b), np.var(g), np.var(b)"
   ]
  },
  {
   "cell_type": "markdown",
   "metadata": {},
   "source": [
    "# Figure 2, simulate a few experiments, showing how the Poisson-Gamma posterior is always much narrower (misleadingly narrow)"
   ]
  },
  {
   "cell_type": "code",
   "execution_count": 3,
   "metadata": {},
   "outputs": [
    {
     "name": "stdout",
     "output_type": "stream",
     "text": [
      "\n",
      "32048 14.926425823803045 0.06278872680306194\n",
      "14.932445082376436 237.9686327884219\n",
      "\n",
      "17748 5.133750453055243 0.16303239064802455\n",
      "5.113083164300203 31.65292101021239\n",
      "\n",
      "41918 7.00104091249567 0.12498373785818849\n",
      "6.994226823798845 55.21190426287893\n",
      "\n",
      "72063 8.750752760580214 0.10255618458943425\n",
      "8.798828802575525 85.63369025923063\n",
      "\n",
      "3611 8.186813519141467 0.10885167070349468\n",
      "8.064801993907505 71.27356309427462\n"
     ]
    },
    {
     "data": {
      "image/png": "[encoded data removed]",
      "text/plain": [
       "<Figure size 432x288 with 1 Axes>"
      ]
     },
     "metadata": {
      "needs_background": "light"
     },
     "output_type": "display_data"
    },
    {
     "data": {
      "image/png": "[encoded data removed]",
      "text/plain": [
       "<Figure size 432x288 with 1 Axes>"
      ]
     },
     "metadata": {
      "needs_background": "light"
     },
     "output_type": "display_data"
    },
    {
     "data": {
      "image/png": "[encoded data removed]",
      "text/plain": [
       "<Figure size 432x288 with 1 Axes>"
      ]
     },
     "metadata": {
      "needs_background": "light"
     },
     "output_type": "display_data"
    },
    {
     "data": {
      "image/png": "[encoded data removed]",
      "text/plain": [
       "<Figure size 432x288 with 1 Axes>"
      ]
     },
     "metadata": {
      "needs_background": "light"
     },
     "output_type": "display_data"
    },
    {
     "data": {
      "image/png": "[encoded data removed]",
      "text/plain": [
       "<Figure size 432x288 with 1 Axes>"
      ]
     },
     "metadata": {
      "needs_background": "light"
     },
     "output_type": "display_data"
    },
    {
     "data": {
      "text/plain": [
       "<Figure size 432x288 with 0 Axes>"
      ]
     },
     "metadata": {},
     "output_type": "display_data"
    }
   ],
   "source": [
    "M = 5\n",
    "for m in range(M):\n",
    "    print()\n",
    "    sample_size = (10**uniform(3,6-3).rvs()).astype(int)\n",
    "    true_mean = g_prior.rvs()\n",
    "    p_for_the_geometric = 1/(true_mean+1)\n",
    "    print(sample_size, true_mean, p_for_the_geometric)\n",
    "    \n",
    "    # Generate Geometric data\n",
    "    g = geom(p=p_for_the_geometric, loc=-1).rvs(sample_size)\n",
    "    print(np.mean(g), np.var(g))\n",
    "    \n",
    "    # Compute the 'correct' posterior, i.e. Beta\n",
    "    geom_beta_prior = 12, 108 # beta(a=12, b=108)\n",
    "    geom_beta_posterior = geom_beta_prior[0] + sample_size, geom_beta_prior[1] + np.sum(g)\n",
    "    \n",
    "    sample_of_means_from_correct_posterior = 1/beta(*geom_beta_posterior).rvs(1000) - 1\n",
    "    plt.hist(sample_of_means_from_correct_posterior)\n",
    "    \n",
    "    # Let's pretend it's Poisson and see what goes wrong\n",
    "    \n",
    "    poisson_gamma_prior = 10, 1  # Gamma(alpha=10, beta=1/1)\n",
    "    poisson_gamma_posterior = poisson_gamma_prior[0] + np.sum(g), poisson_gamma_prior[1] + sample_size\n",
    "    wrong_posterior = gamma(a=poisson_gamma_posterior[0], scale=1/poisson_gamma_posterior[1]).rvs(1000)\n",
    "    plt.hist(wrong_posterior)\n",
    "    plt.figure()\n",
    "    \n",
    "    "
   ]
  }
 ],
 "metadata": {
  "kernelspec": {
   "display_name": "Python 3",
   "language": "python",
   "name": "python3"
  },
  "language_info": {
   "codemirror_mode": {
    "name": "ipython",
    "version": 3
   },
   "file_extension": ".py",
   "mimetype": "text/x-python",
   "name": "python",
   "nbconvert_exporter": "python",
   "pygments_lexer": "ipython3",
   "version": "3.6.10"
  }
 },
 "nbformat": 4,
 "nbformat_minor": 4
}
